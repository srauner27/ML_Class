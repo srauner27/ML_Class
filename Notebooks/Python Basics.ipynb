{
 "cells": [
  {
   "cell_type": "markdown",
   "metadata": {},
   "source": [
    "# Python Basics"
   ]
  },
  {
   "cell_type": "markdown",
   "metadata": {},
   "source": [
    "## Variables and Data Types"
   ]
  },
  {
   "cell_type": "code",
   "execution_count": 2,
   "metadata": {},
   "outputs": [
    {
     "data": {
      "text/plain": [
       "5"
      ]
     },
     "execution_count": 2,
     "metadata": {},
     "output_type": "execute_result"
    }
   ],
   "source": [
    "# Variable Assignment\n",
    "x = 5\n",
    "x"
   ]
  },
  {
   "cell_type": "code",
   "execution_count": 6,
   "metadata": {},
   "outputs": [
    {
     "name": "stdout",
     "output_type": "stream",
     "text": [
      "[7, 10, 25, 1]\n"
     ]
    }
   ],
   "source": [
    "# Calculations with Variables\n",
    "y1 = x + 2\n",
    "y2 = x * 2\n",
    "y3 = x ** 2\n",
    "y4 = x % 2\n",
    "print([y1, y2, y3, y4])"
   ]
  },
  {
   "cell_type": "code",
   "execution_count": 8,
   "metadata": {},
   "outputs": [
    {
     "data": {
      "text/plain": [
       "int"
      ]
     },
     "execution_count": 8,
     "metadata": {},
     "output_type": "execute_result"
    }
   ],
   "source": [
    "# Types and Type Conversion\n",
    "x = 5\n",
    "type(x)"
   ]
  },
  {
   "cell_type": "code",
   "execution_count": 11,
   "metadata": {},
   "outputs": [
    {
     "name": "stdout",
     "output_type": "stream",
     "text": [
      "5 5 <class 'str'> <class 'int'>\n"
     ]
    }
   ],
   "source": [
    "y = str(x)\n",
    "print(y, x, type(y), type(x))"
   ]
  },
  {
   "cell_type": "code",
   "execution_count": 21,
   "metadata": {},
   "outputs": [
    {
     "name": "stdout",
     "output_type": "stream",
     "text": [
      "True = <class 'bool'>\n",
      "5 = <class 'str'>\n",
      "5.0 = <class 'float'>\n",
      "5 = <class 'int'>\n"
     ]
    }
   ],
   "source": [
    "print(\"{} = {}\\n{} = {}\\n{} = {}\\n{} = {}\"\n",
    "      .format(True, type(True), \n",
    "              '5', type('5'), \n",
    "              5.0, type(5.0), \n",
    "              5, type(5)))"
   ]
  },
  {
   "cell_type": "code",
   "execution_count": 25,
   "metadata": {},
   "outputs": [
    {
     "name": "stdout",
     "output_type": "stream",
     "text": [
      "WaddupWaddup\n",
      "Waddup my dude\n",
      "True\n",
      "False\n"
     ]
    }
   ],
   "source": [
    "# math with strings\n",
    "x = 'Waddup'\n",
    "print (x * 2)\n",
    "print (x + ' ' + \"my dude\")\n",
    "print ('W' in x)\n",
    "print ('&' in x)"
   ]
  },
  {
   "cell_type": "markdown",
   "metadata": {},
   "source": [
    "## Lists"
   ]
  },
  {
   "cell_type": "code",
   "execution_count": 48,
   "metadata": {},
   "outputs": [
    {
     "name": "stdout",
     "output_type": "stream",
     "text": [
      "['my', 'list', 'is', 'nice']\n",
      "[[4, 5, 6, 7], [3, 4, 5, 6]]\n"
     ]
    }
   ],
   "source": [
    "a = 'is'\n",
    "b = 'nice'\n",
    "my_list = ['my', 'list', a, b]\n",
    "my_list2d = [[4,5,6,7], [3,4,5,6]]\n",
    "print (my_list)\n",
    "print (my_list2d)"
   ]
  },
  {
   "cell_type": "code",
   "execution_count": 30,
   "metadata": {},
   "outputs": [
    {
     "data": {
      "text/plain": [
       "[5, 5.0, True, '5']"
      ]
     },
     "execution_count": 30,
     "metadata": {},
     "output_type": "execute_result"
    }
   ],
   "source": [
    "# lists can combine data of different types, arrays cannot\n",
    "x = [5, 5.0, True, '5']\n",
    "x"
   ]
  },
  {
   "cell_type": "markdown",
   "metadata": {},
   "source": [
    "### Selecting List Elements"
   ]
  },
  {
   "cell_type": "code",
   "execution_count": 38,
   "metadata": {},
   "outputs": [
    {
     "name": "stdout",
     "output_type": "stream",
     "text": [
      "['my', 'list', 'is', 'nice']\n",
      "------\n",
      "my\n",
      "list\n",
      "list\n",
      "------\n",
      "[[4, 5, 6, 7], [3, 4, 5, 6]]\n",
      "------\n",
      "[4, 5, 6, 7]\n",
      "3\n"
     ]
    }
   ],
   "source": [
    "# the first spot of a list in python is at location 0\n",
    "# subset\n",
    "print(my_list)\n",
    "print('------')\n",
    "print(my_list[0])\n",
    "print(my_list[1])\n",
    "print(my_list[-3])\n",
    "print('------')\n",
    "print(my_list2d)\n",
    "print('------')\n",
    "print(my_list2d[0])\n",
    "print(my_list2d[1][0])"
   ]
  },
  {
   "cell_type": "markdown",
   "metadata": {},
   "source": [
    "### List Operations"
   ]
  },
  {
   "cell_type": "code",
   "execution_count": 49,
   "metadata": {},
   "outputs": [
    {
     "name": "stdout",
     "output_type": "stream",
     "text": [
      "2\n",
      "1\n"
     ]
    }
   ],
   "source": [
    "print(my_list.index(a)) # find the first location of a in your list\n",
    "print(my_list.count(a)) # count elements\n",
    "my_list.append('!') # add '!' to end of list\n",
    "my_list.remove('!') # remove an item \n",
    "# del(my_list[0:1]) # remove an item \n",
    "my_list.reverse()"
   ]
  },
  {
   "cell_type": "markdown",
   "metadata": {},
   "source": [
    "### String Operations"
   ]
  },
  {
   "cell_type": "code",
   "execution_count": 56,
   "metadata": {},
   "outputs": [
    {
     "name": "stdout",
     "output_type": "stream",
     "text": [
      "d\n",
      "dup\n",
      "Wad\n",
      "Wad\n"
     ]
    }
   ],
   "source": [
    "my_string = 'Waddup'\n",
    "print(my_string[3])\n",
    "print(my_string[3:])\n",
    "print(my_string[:-3])\n",
    "print(my_string[:3])"
   ]
  },
  {
   "cell_type": "code",
   "execution_count": 62,
   "metadata": {},
   "outputs": [
    {
     "name": "stdout",
     "output_type": "stream",
     "text": [
      "WADDUP\n",
      "waddup\n",
      "2\n",
      "Wassup\n",
      "Waddup\n"
     ]
    }
   ],
   "source": [
    "print(my_string.upper())\n",
    "print(my_string.lower())\n",
    "print(my_string.count('d'))\n",
    "print(my_string.replace('d', 's'))\n",
    "# keep in mind that printing my_string again has the 'd' instead of the 's'\n",
    "print(my_string)"
   ]
  },
  {
   "cell_type": "code",
   "execution_count": 73,
   "metadata": {},
   "outputs": [
    {
     "name": "stdout",
     "output_type": "stream",
     "text": [
      "     This is a full sentence with spaces on the ends.   \n",
      "This is a full sentence with spaces on the ends.\n",
      "['This', 'is', 'a', 'full', 'sentence', 'with', 'spaces', 'on', 'the', 'ends.']\n",
      "['     Thi', ' i', ' a full ', 'entence with ', 'pace', ' on the end', '.   ']\n"
     ]
    }
   ],
   "source": [
    "string = '     This is a full sentence with spaces on the ends.   '\n",
    "print(string)\n",
    "print(string.strip())\n",
    "# split will break your string into a list, with default delimiter being a space\n",
    "print(string.split())\n",
    "# if we choose something more specific as a delimiter, we can make less splits\n",
    "print(string.split('s'))"
   ]
  },
  {
   "cell_type": "markdown",
   "metadata": {},
   "source": [
    "## Libraries"
   ]
  },
  {
   "cell_type": "code",
   "execution_count": 74,
   "metadata": {},
   "outputs": [],
   "source": [
    "# importing library with alias\n",
    "import numpy as np \n",
    "\n",
    "# Selecting memory (improves performance if the library is huge)\n",
    "from math import pi"
   ]
  }
 ],
 "metadata": {
  "kernelspec": {
   "display_name": "Python 3",
   "language": "python",
   "name": "python3"
  },
  "language_info": {
   "codemirror_mode": {
    "name": "ipython",
    "version": 3
   },
   "file_extension": ".py",
   "mimetype": "text/x-python",
   "name": "python",
   "nbconvert_exporter": "python",
   "pygments_lexer": "ipython3",
   "version": "3.6.6"
  }
 },
 "nbformat": 4,
 "nbformat_minor": 2
}
